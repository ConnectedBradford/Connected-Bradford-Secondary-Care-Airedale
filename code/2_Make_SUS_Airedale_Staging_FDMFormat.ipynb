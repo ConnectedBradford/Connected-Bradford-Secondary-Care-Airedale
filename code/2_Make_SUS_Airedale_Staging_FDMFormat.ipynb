{
 "cells": [
  {
   "cell_type": "code",
   "execution_count": 13,
   "id": "269071d4-4a53-474d-9fd9-6605e3f453dd",
   "metadata": {},
   "outputs": [
    {
     "name": "stdout",
     "output_type": "stream",
     "text": [
      "[1] \"yhcr-prd-phm-bia-core.CB_MYSPACE_JDB\"\n",
      "[1] \"yhcr-prd-phm-bia-core.CB_STAGING_DATABASE_SUS_Airedale_FDM_Format\"\n",
      "[1] \"yhcr-prd-phm-bia-core.CB_LOOKUPS\"\n"
     ]
    }
   ],
   "source": [
    "#Make_SUS_Airedale_FDM_Format.ipynb\n",
    "##last modified 20230309 \n",
    "\n",
    "#Builds the BDCT SUS FDM\n",
    "#Assumes that the targetdb below exists\n",
    "#Needs code to build it if it doesn't\n",
    "\n",
    "#You will need to manually amend the target dataset for this script\n",
    "\n",
    "library(bigrquery)\n",
    "library(lubridate) \n",
    "\n",
    "# Store the project ID\n",
    "project_id = \"yhcr-prd-phm-bia-core\"\n",
    "\n",
    "sourcedb <-\"yhcr-prd-phm-bia-core.CB_MYSPACE_JDB\"\n",
    "targetdb <-'yhcr-prd-phm-bia-core.CB_STAGING_DATABASE_SUS_Airedale_FDM_Format'\n",
    "lookups <-'yhcr-prd-phm-bia-core.CB_LOOKUPS'\n",
    "targetdb <-gsub(' ','',targetdb)\n",
    "print (sourcedb) \n",
    "print (targetdb)\n",
    "print(lookups)"
   ]
  },
  {
   "cell_type": "code",
   "execution_count": 2,
   "id": "dc7ac8a0-05af-4fb4-9663-ba8f5b6955e7",
   "metadata": {},
   "outputs": [
    {
     "name": "stdout",
     "output_type": "stream",
     "text": [
      "[1] \"fdm_source_date updated 2024-04-24 06:49:36.625829\"\n"
     ]
    }
   ],
   "source": [
    "# Set the date fro this to the last date you downloaded the data \n",
    "# Ensure fdm_data_source date has been updated\n",
    "\n",
    "sql14 <- 'update yhcr-prd-phm-bia-core.CB_FDM_Management.cb_source_data_list set updated_date = \\'2024-04-27\\' \n",
    "where dataset = \"CB_STAGING_DATABASE_SUS_Airedale_FDM_Format\";' \n",
    "#print(sql14)\n",
    "tb14 <- bq_project_query(project_id, sql14)\n",
    "\n",
    "\n",
    "eric <- paste(\"fdm_source_date updated \"  ,Sys.time() + hours(0) ,sep = \"\")\n",
    "print(eric) \n"
   ]
  },
  {
   "cell_type": "code",
   "execution_count": 3,
   "id": "5703770b-c9d0-4d6e-981b-35cb92ab51cb",
   "metadata": {},
   "outputs": [
    {
     "name": "stdout",
     "output_type": "stream",
     "text": [
      "[1] \"tables deleted from target 2024-04-24 07:49:44.124098\"\n"
     ]
    }
   ],
   "source": [
    "sql4 <-paste('drop table if exists ',targetdb,'.tbl_SUS_Airedale_APC_20220601_to_Current;', sep = \"\")\n",
    "tb4 <-bq_project_query(project_id, sql4)\n",
    "\n",
    "\n",
    "\n",
    "sql5 <-paste('drop table if exists ',targetdb,'.tbl_SUS_Airedale_OP_20220601_to_Current;', sep = \"\")\n",
    "tb5 <-bq_project_query(project_id, sql5)\n",
    "\n",
    "sql6 <-paste('drop table if exists ',targetdb,'.tbl_SUS_Airedale_ECDS_20220601_to_Current;', sep = \"\")\n",
    "tb6 <-bq_project_query(project_id, sql6)\n",
    "\n",
    "\n",
    "eric <- paste(\"tables deleted from target \"  ,Sys.time() + hours(1) ,sep = \"\")\n",
    "print(eric) \n"
   ]
  },
  {
   "cell_type": "code",
   "execution_count": 14,
   "id": "dd696fec-017a-4949-9c36-e9633245d1d1",
   "metadata": {},
   "outputs": [
    {
     "name": "stdout",
     "output_type": "stream",
     "text": [
      "[1] \"APC Built 2024-04-24 08:34:52.136893\"\n"
     ]
    }
   ],
   "source": [
    "sql8 <-paste('create or replace TABLE ', targetdb , '.tbl_SUS_Airedale_APC_20220601_to_Current \n",
    "as \n",
    "SELECT \n",
    "dem.person_id,\n",
    "cast(left(admdate,4)||\\'-\\'||substring(admdate,5,2)||\\'-\\'|| substring(admdate,7,2)||\\' 00:00:00\\' as datetime) as tbl_SUS_Airedale_APC_20220601_to_Current_start_date,\n",
    "cast(left(dischdate,4)||\\'-\\'||substring(dischdate,5,2)||\\'-\\'|| substring(dischdate,7,2)||\\' 00:00:00\\' as datetime)  as tbl_SUS_Airedale_APC_20220601_to_Current_end_date,\n",
    "src.* FROM ', sourcedb,'.src_SUS_Airedale_APC_20220601_to_Current src \n",
    "left join yhcr-prd-phm-bia-core.CB_STAGING_DATABASE.src_DemoGraphics_MASTER dem\n",
    "on src.digest = dem.digest ;', sep = \"\")\n",
    "tb8 <-bq_project_query(project_id, sql8)\n",
    "\n",
    "\n",
    "eric <- paste(\"APC Built \"  ,Sys.time() + hours(1) ,sep = \"\")\n",
    "print(eric) \n"
   ]
  },
  {
   "cell_type": "code",
   "execution_count": 15,
   "id": "a5c6f63f-7e8d-4f3c-8f7b-688ab026a0de",
   "metadata": {},
   "outputs": [
    {
     "name": "stdout",
     "output_type": "stream",
     "text": [
      "[1] \"ECDS Built 2024-04-24 08:35:08.611678\"\n"
     ]
    }
   ],
   "source": [
    "sql9<-paste('create or replace TABLE ', targetdb , '.tbl_SUS_Airedale_ECDS_20220601_to_Current \n",
    "as \n",
    "SELECT \n",
    "dem.person_id,\n",
    "cast(arrival_date ||\\' \\' || arrival_time as datetime) as tbl_SUS_Airedale_ECDS_20220601_to_Current_start_date,\n",
    "cast(depart_date ||\\' \\' || depart_time as datetime) as tbl_SUS_Airedale_ECDS_20220601_to_Current_end_date,\n",
    "src.* FROM ', sourcedb,'.src_SUS_Airedale_ECDS_20220601_to_Current src\n",
    " left join  yhcr-prd-phm-bia-core.CB_STAGING_DATABASE.src_DemoGraphics_MASTER dem\n",
    "on src.digest = dem.digest\n",
    ";', sep = \"\")\n",
    "tb9 <-bq_project_query(project_id, sql9)\n",
    "\n",
    "\n",
    "eric <- paste(\"ECDS Built \"  ,Sys.time() + hours(1) ,sep = \"\")\n",
    "print(eric) \n"
   ]
  },
  {
   "cell_type": "code",
   "execution_count": 16,
   "id": "e92432e3-de0f-444a-952c-216369c7ea99",
   "metadata": {},
   "outputs": [
    {
     "name": "stdout",
     "output_type": "stream",
     "text": [
      "[1] \"OP Built 2024-04-24 08:35:27.808177\"\n"
     ]
    }
   ],
   "source": [
    "sql10<-paste('create or replace TABLE ', targetdb , '.tbl_SUS_Airedale_OP_20220601_to_Current \n",
    "as \n",
    "SELECT \n",
    "dem.person_id,\n",
    "cast(left(appdate,4)||\\'-\\'||substring(appdate,5,2)||\\'-\\'|| substring(appdate,7,2)||\\' \\'|| substring(apptime,1,2)||\\':\\'|| substring(apptime,3,2)||\\':00\\'  as datetime) as tbl_SUS_Airedale_OP_20220601_to_Current_start_date,\n",
    "cast(left(appdate,4)||\\'-\\'||substring(appdate,5,2)||\\'-\\'|| substring(appdate,7,2)||\\' \\'|| substring(apptime,1,2)||\\':\\'|| substring(apptime,3,2)||\\':00\\'  as datetime) as tbl_SUS_Airedale_OP_20220601_to_Current_end_date,\n",
    "src.* FROM ', sourcedb,'.src_SUS_Airedale_OP_20220601_to_Current src \n",
    " left join  `yhcr-prd-phm-bia-core.CB_STAGING_DATABASE.src_DemoGraphics_MASTER` dem\n",
    "on src.digest = dem.digest\n",
    ";', sep = \"\")\n",
    "tb10 <-bq_project_query(project_id, sql10)\n",
    "\n",
    "eric <- paste(\"OP Built \"  ,Sys.time() + hours(1) ,sep = \"\")\n",
    "print(eric) "
   ]
  },
  {
   "cell_type": "code",
   "execution_count": null,
   "id": "84e4cd9e-6098-42fe-91e3-ec10cea5cfd8",
   "metadata": {},
   "outputs": [],
   "source": []
  }
 ],
 "metadata": {
  "environment": {
   "kernel": "ir",
   "name": "r-cpu.4-2.m110",
   "type": "gcloud",
   "uri": "gcr.io/deeplearning-platform-release/r-cpu.4-2:m110"
  },
  "kernelspec": {
   "display_name": "R",
   "language": "R",
   "name": "ir"
  },
  "language_info": {
   "codemirror_mode": "r",
   "file_extension": ".r",
   "mimetype": "text/x-r-source",
   "name": "R",
   "pygments_lexer": "r",
   "version": "4.3.1"
  }
 },
 "nbformat": 4,
 "nbformat_minor": 5
}
